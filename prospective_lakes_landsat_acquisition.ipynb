{
 "cells": [
  {
   "cell_type": "code",
   "execution_count": null,
   "metadata": {},
   "outputs": [],
   "source": [
    "#### SGL Greenland - Cloud free landsat images\n",
    "# Wesley Rancher\n",
    "# 3 July 2024\n",
    "\n",
    "# goals for the script:\n",
    "# 1. read in Rowley's shp file\n",
    "# 2. Use NDWI to delineate these lakes to get lake perimeter for each of the landsat images (5/28, 6/22, 7/08, 7/31, 8/23) ← perhaps find more 2021 images? \n",
    "# 3. export NDWI images // and bands 4, 3, 2 (do we need metadata?)"
   ]
  },
  {
   "cell_type": "code",
   "execution_count": null,
   "metadata": {},
   "outputs": [],
   "source": [
    "### Further analysis after export (prolly in R)\n",
    "# Use Pope method to estimate lake volume for these 10 lakes for each landsat date\n",
    "# Sneed/Hamilton do the same (shall we compare two depth-reflectance methods?)\n",
    "# Using the delineated lake perimeter (from NDWI), extract lake elevations from the DEM (for 10 lakes for each Landsat date)\n",
    "# Watersheds have been delineated → identify a surface melt model (PDD and ?? energy balance model??) to melt water within the watershed "
   ]
  },
  {
   "cell_type": "code",
   "execution_count": 1,
   "metadata": {},
   "outputs": [
    {
     "data": {
      "text/html": [
       "<p>To authorize access needed by Earth Engine, open the following\n",
       "        URL in a web browser and follow the instructions:</p>\n",
       "        <p><a href=https://code.earthengine.google.com/client-auth?scopes=https%3A//www.googleapis.com/auth/earthengine%20https%3A//www.googleapis.com/auth/cloud-platform%20https%3A//www.googleapis.com/auth/devstorage.full_control&request_id=OIH3MaONmkb2GzF9ZP4pWxWzvvmt1fRGWHSeBAlNV8c&tc=wjqLxmiFX8EmYTGTd45FoizNySEo-P6BmjgOPws7_ck&cc=I44GO4E3DWOIwMe2h9VW4xubKAYJtkHJ6HKWJ1e03Rk>https://code.earthengine.google.com/client-auth?scopes=https%3A//www.googleapis.com/auth/earthengine%20https%3A//www.googleapis.com/auth/cloud-platform%20https%3A//www.googleapis.com/auth/devstorage.full_control&request_id=OIH3MaONmkb2GzF9ZP4pWxWzvvmt1fRGWHSeBAlNV8c&tc=wjqLxmiFX8EmYTGTd45FoizNySEo-P6BmjgOPws7_ck&cc=I44GO4E3DWOIwMe2h9VW4xubKAYJtkHJ6HKWJ1e03Rk</a></p>\n",
       "        <p>The authorization workflow will generate a code, which you should paste in the box below.</p>\n",
       "        "
      ],
      "text/plain": [
       "<IPython.core.display.HTML object>"
      ]
     },
     "metadata": {},
     "output_type": "display_data"
    },
    {
     "name": "stdout",
     "output_type": "stream",
     "text": [
      "\n",
      "Successfully saved authorization token.\n"
     ]
    }
   ],
   "source": [
    "# libs and gee setup\n",
    "import ee \n",
    "import geemap\n",
    "\n",
    "ee.Authenticate()\n",
    "ee.Initialize()"
   ]
  },
  {
   "cell_type": "code",
   "execution_count": 2,
   "metadata": {},
   "outputs": [
    {
     "data": {
      "text/html": [
       "\n",
       "            <style>\n",
       "                .geemap-dark {\n",
       "                    --jp-widgets-color: white;\n",
       "                    --jp-widgets-label-color: white;\n",
       "                    --jp-ui-font-color1: white;\n",
       "                    --jp-layout-color2: #454545;\n",
       "                    background-color: #383838;\n",
       "                }\n",
       "\n",
       "                .geemap-dark .jupyter-button {\n",
       "                    --jp-layout-color3: #383838;\n",
       "                }\n",
       "\n",
       "                .geemap-colab {\n",
       "                    background-color: var(--colab-primary-surface-color, white);\n",
       "                }\n",
       "\n",
       "                .geemap-colab .jupyter-button {\n",
       "                    --jp-layout-color3: var(--colab-primary-surface-color, white);\n",
       "                }\n",
       "            </style>\n",
       "            "
      ],
      "text/plain": [
       "<IPython.core.display.HTML object>"
      ]
     },
     "metadata": {},
     "output_type": "display_data"
    }
   ],
   "source": [
    "# shpfile and add to map for visual\n",
    "prospective_lakes = ee.FeatureCollection('users/wesranch/WV01_2021_0721_selected_watersheds_shp')\n",
    "\n",
    "Map = geemap.Map(center=[70, -50], zoom=5, basemap='Esri.WorldGrayCanvas')\n",
    "\n",
    "# add to map\n",
    "Map.addLayer(prospective_lakes, {}, 'wtrshds from NR')\n",
    "#Map"
   ]
  },
  {
   "cell_type": "code",
   "execution_count": 5,
   "metadata": {},
   "outputs": [
    {
     "data": {
      "text/html": [
       "\n",
       "            <style>\n",
       "                .geemap-dark {\n",
       "                    --jp-widgets-color: white;\n",
       "                    --jp-widgets-label-color: white;\n",
       "                    --jp-ui-font-color1: white;\n",
       "                    --jp-layout-color2: #454545;\n",
       "                    background-color: #383838;\n",
       "                }\n",
       "\n",
       "                .geemap-dark .jupyter-button {\n",
       "                    --jp-layout-color3: #383838;\n",
       "                }\n",
       "\n",
       "                .geemap-colab {\n",
       "                    background-color: var(--colab-primary-surface-color, white);\n",
       "                }\n",
       "\n",
       "                .geemap-colab .jupyter-button {\n",
       "                    --jp-layout-color3: var(--colab-primary-surface-color, white);\n",
       "                }\n",
       "            </style>\n",
       "            "
      ],
      "text/plain": [
       "<IPython.core.display.HTML object>"
      ]
     },
     "metadata": {},
     "output_type": "display_data"
    }
   ],
   "source": [
    "# defining dates of interest\n",
    "begin = '2021-05-01'\n",
    "end = '2021-09-30'"
   ]
  },
  {
   "cell_type": "code",
   "execution_count": 1,
   "metadata": {},
   "outputs": [
    {
     "ename": "NameError",
     "evalue": "name 'ee' is not defined",
     "output_type": "error",
     "traceback": [
      "\u001b[1;31m---------------------------------------------------------------------------\u001b[0m",
      "\u001b[1;31mNameError\u001b[0m                                 Traceback (most recent call last)",
      "Cell \u001b[1;32mIn[1], line 2\u001b[0m\n\u001b[0;32m      1\u001b[0m \u001b[38;5;66;03m# filter the landsat 8 collection where overlapping with watersheds of interest \u001b[39;00m\n\u001b[1;32m----> 2\u001b[0m l8 \u001b[38;5;241m=\u001b[39m \u001b[43mee\u001b[49m\u001b[38;5;241m.\u001b[39mImageCollection(\u001b[38;5;124m'\u001b[39m\u001b[38;5;124mLANDSAT/LC08/C02/T1_L2\u001b[39m\u001b[38;5;124m'\u001b[39m) \\\n\u001b[0;32m      3\u001b[0m     \u001b[38;5;241m.\u001b[39mfilterDate(begin, end) \\\n\u001b[0;32m      4\u001b[0m     \u001b[38;5;241m.\u001b[39mfilterBounds(prospective_lakes) \\\n\u001b[0;32m      5\u001b[0m     \u001b[38;5;241m.\u001b[39mfilter(ee\u001b[38;5;241m.\u001b[39mFilter\u001b[38;5;241m.\u001b[39mlte(\u001b[38;5;124m'\u001b[39m\u001b[38;5;124mCLOUD_COVER\u001b[39m\u001b[38;5;124m'\u001b[39m, \u001b[38;5;241m10\u001b[39m)) \\\n\u001b[0;32m      6\u001b[0m     \u001b[38;5;241m.\u001b[39mselect([\u001b[38;5;124m'\u001b[39m\u001b[38;5;124mSR_B2\u001b[39m\u001b[38;5;124m'\u001b[39m, \u001b[38;5;124m'\u001b[39m\u001b[38;5;124mSR_B3\u001b[39m\u001b[38;5;124m'\u001b[39m, \u001b[38;5;124m'\u001b[39m\u001b[38;5;124mSR_B4\u001b[39m\u001b[38;5;124m'\u001b[39m, \u001b[38;5;124m'\u001b[39m\u001b[38;5;124mSR_B5\u001b[39m\u001b[38;5;124m'\u001b[39m]) \\\n\u001b[0;32m      7\u001b[0m     \u001b[38;5;241m.\u001b[39msort(\u001b[38;5;124m'\u001b[39m\u001b[38;5;124mCLOUD_COVER\u001b[39m\u001b[38;5;124m'\u001b[39m)\n\u001b[0;32m      9\u001b[0m \u001b[38;5;66;03m# leave this as a shell for images post 2021 \u001b[39;00m\n\u001b[0;32m     10\u001b[0m l9 \u001b[38;5;241m=\u001b[39m ee\u001b[38;5;241m.\u001b[39mImageCollection(\u001b[38;5;124m'\u001b[39m\u001b[38;5;124mLANDSAT/LC09/C02/T1_L2\u001b[39m\u001b[38;5;124m'\u001b[39m) \\\n\u001b[0;32m     11\u001b[0m     \u001b[38;5;241m.\u001b[39mfilterDate(begin, end) \\\n\u001b[0;32m     12\u001b[0m     \u001b[38;5;241m.\u001b[39mfilterBounds(prospective_lakes) \\\n\u001b[0;32m     13\u001b[0m     \u001b[38;5;241m.\u001b[39mfilter(ee\u001b[38;5;241m.\u001b[39mFilter\u001b[38;5;241m.\u001b[39mlte(\u001b[38;5;124m'\u001b[39m\u001b[38;5;124mCLOUD_COVER\u001b[39m\u001b[38;5;124m'\u001b[39m, \u001b[38;5;241m10\u001b[39m)) \\\n\u001b[0;32m     14\u001b[0m     \u001b[38;5;241m.\u001b[39mselect([\u001b[38;5;124m'\u001b[39m\u001b[38;5;124mSR_B2\u001b[39m\u001b[38;5;124m'\u001b[39m, \u001b[38;5;124m'\u001b[39m\u001b[38;5;124mSR_B3\u001b[39m\u001b[38;5;124m'\u001b[39m, \u001b[38;5;124m'\u001b[39m\u001b[38;5;124mSR_B4\u001b[39m\u001b[38;5;124m'\u001b[39m, \u001b[38;5;124m'\u001b[39m\u001b[38;5;124mSR_B5\u001b[39m\u001b[38;5;124m'\u001b[39m]) \\\n\u001b[0;32m     15\u001b[0m     \u001b[38;5;241m.\u001b[39msort(\u001b[38;5;124m'\u001b[39m\u001b[38;5;124mCLOUD_COVER\u001b[39m\u001b[38;5;124m'\u001b[39m)\n",
      "\u001b[1;31mNameError\u001b[0m: name 'ee' is not defined"
     ]
    }
   ],
   "source": [
    "# filter the landsat 8 collection where overlapping with watersheds of interest \n",
    "l8 = ee.ImageCollection('LANDSAT/LC08/C02/T1_L2') \\\n",
    "    .filterDate(begin, end) \\\n",
    "    .filterBounds(prospective_lakes) \\\n",
    "    .filter(ee.Filter.lte('CLOUD_COVER', 10)) \\\n",
    "    .select(['SR_B2', 'SR_B3', 'SR_B4', 'SR_B5']) \\\n",
    "    .sort('CLOUD_COVER')\n",
    "\n",
    "# leave this as a shell for images post 2021 \n",
    "l9 = ee.ImageCollection('LANDSAT/LC09/C02/T1_L2') \\\n",
    "    .filterDate(begin, end) \\\n",
    "    .filterBounds(prospective_lakes) \\\n",
    "    .filter(ee.Filter.lte('CLOUD_COVER', 10)) \\\n",
    "    .select(['SR_B2', 'SR_B3', 'SR_B4', 'SR_B5']) \\\n",
    "    .sort('CLOUD_COVER')\n",
    "\n",
    "all_images_sr = l8.merge(l9)\n",
    "\n",
    "# inspect what the collection returned\n",
    "print(l8.size().getInfo())\n",
    "print(l9.size().getInfo())\n",
    "amt_of_images_sr = all_images_sr.size().getInfo()\n",
    "#print('number of images:', amt_of_images_sr_l8)\n",
    "#print('number of images:', amt_of_images_sr_l9)\n",
    "print('number of images:', amt_of_images_sr)\n",
    "\n",
    "# what are the dates\n",
    "image_dates_sr = all_images_sr.aggregate_array('DATE_ACQUIRED').getInfo()\n",
    "for date in image_dates_sr:\n",
    "    print(date)"
   ]
  },
  {
   "cell_type": "code",
   "execution_count": 25,
   "metadata": {},
   "outputs": [
    {
     "data": {
      "text/html": [
       "\n",
       "            <style>\n",
       "                .geemap-dark {\n",
       "                    --jp-widgets-color: white;\n",
       "                    --jp-widgets-label-color: white;\n",
       "                    --jp-ui-font-color1: white;\n",
       "                    --jp-layout-color2: #454545;\n",
       "                    background-color: #383838;\n",
       "                }\n",
       "\n",
       "                .geemap-dark .jupyter-button {\n",
       "                    --jp-layout-color3: #383838;\n",
       "                }\n",
       "\n",
       "                .geemap-colab {\n",
       "                    background-color: var(--colab-primary-surface-color, white);\n",
       "                }\n",
       "\n",
       "                .geemap-colab .jupyter-button {\n",
       "                    --jp-layout-color3: var(--colab-primary-surface-color, white);\n",
       "                }\n",
       "            </style>\n",
       "            "
      ],
      "text/plain": [
       "<IPython.core.display.HTML object>"
      ]
     },
     "metadata": {},
     "output_type": "display_data"
    }
   ],
   "source": [
    "# compute NDWI and add it as a band\n",
    "def compute_ndwi(image):\n",
    "    ndwi = image.normalizedDifference(['SR_B3', 'SR_B5']).rename('NDWI')\n",
    "    return image.addBands(ndwi)\n",
    "# compute ndwi ice\n",
    "def compute_ndwi_ice(image):\n",
    "    ndwi_ice = image.normalizedDifference(['SR_B2', 'SR_B4']).rename('NDWI_Ice')\n",
    "    return image.addBands(ndwi_ice)\n",
    "# compute mndwi\n",
    "def compute_mndwi(image):\n",
    "    mndwi = image.normalizedDifference(['SR_B3', 'SR_B6']).rename('MNDWI')\n",
    "    return image.addBands(mndwi)\n",
    "# apply the functions\n",
    "all_images_w_ndwi = all_images_sr.map(compute_ndwi)\n",
    "all_images_w_mndwi = all_images_sr.map(compute_mndwi)\n",
    "all_images_ndwi_ice = all_images_sr.map(compute_ndwi_ice)\n",
    "\n",
    "# for one image just for quick inspection\n",
    "one_image = ee.Image('LANDSAT/LC08/C02/T1_L2/LC08_008012_20210731')\n",
    "mndwi = one_image.normalizedDifference(['SR_B3', 'SR_B6']).rename('MNDWI')"
   ]
  },
  {
   "cell_type": "code",
   "execution_count": 27,
   "metadata": {},
   "outputs": [
    {
     "data": {
      "text/html": [
       "\n",
       "            <style>\n",
       "                .geemap-dark {\n",
       "                    --jp-widgets-color: white;\n",
       "                    --jp-widgets-label-color: white;\n",
       "                    --jp-ui-font-color1: white;\n",
       "                    --jp-layout-color2: #454545;\n",
       "                    background-color: #383838;\n",
       "                }\n",
       "\n",
       "                .geemap-dark .jupyter-button {\n",
       "                    --jp-layout-color3: #383838;\n",
       "                }\n",
       "\n",
       "                .geemap-colab {\n",
       "                    background-color: var(--colab-primary-surface-color, white);\n",
       "                }\n",
       "\n",
       "                .geemap-colab .jupyter-button {\n",
       "                    --jp-layout-color3: var(--colab-primary-surface-color, white);\n",
       "                }\n",
       "            </style>\n",
       "            "
      ],
      "text/plain": [
       "<IPython.core.display.HTML object>"
      ]
     },
     "metadata": {},
     "output_type": "display_data"
    }
   ],
   "source": [
    "# export the one mndwi image  \n",
    "export_task = ee.batch.Export.image.toDrive(\n",
    "    image=mndwi.select('MNDWI'),\n",
    "    description='LC08_008012_20210731_MNDWI',\n",
    "    folder='gee_SGL_exports',\n",
    "    scale=30,            \n",
    "    region=mndwi.geometry().bounds(),\n",
    "    fileFormat='GeoTIFF')\n",
    "export_task.start()"
   ]
  },
  {
   "cell_type": "code",
   "execution_count": 77,
   "metadata": {},
   "outputs": [
    {
     "data": {
      "text/html": [
       "\n",
       "            <style>\n",
       "                .geemap-dark {\n",
       "                    --jp-widgets-color: white;\n",
       "                    --jp-widgets-label-color: white;\n",
       "                    --jp-ui-font-color1: white;\n",
       "                    --jp-layout-color2: #454545;\n",
       "                    background-color: #383838;\n",
       "                }\n",
       "\n",
       "                .geemap-dark .jupyter-button {\n",
       "                    --jp-layout-color3: #383838;\n",
       "                }\n",
       "\n",
       "                .geemap-colab {\n",
       "                    background-color: var(--colab-primary-surface-color, white);\n",
       "                }\n",
       "\n",
       "                .geemap-colab .jupyter-button {\n",
       "                    --jp-layout-color3: var(--colab-primary-surface-color, white);\n",
       "                }\n",
       "            </style>\n",
       "            "
      ],
      "text/plain": [
       "<IPython.core.display.HTML object>"
      ]
     },
     "metadata": {},
     "output_type": "display_data"
    }
   ],
   "source": [
    "# function for export (main goal here is retention of file nomenclature)\n",
    "# this will be composites instead of images as individual bands only\n",
    "def export_all_images(image_collection, label):\n",
    "    image_list = image_collection.toList(image_collection.size())\n",
    "    image_count = image_collection.size().getInfo()\n",
    "\n",
    "    for i in range(image_count):\n",
    "        image = ee.Image(image_list.get(i))\n",
    "        image_id = image.get('system:index').getInfo()  \n",
    "\n",
    "        export_task = ee.batch.Export.image.toDrive(\n",
    "            image=image.select('SR_B2', 'SR_B3', 'SR_B4'),\n",
    "            description=image_id,\n",
    "            folder='gee_SGL_exports',\n",
    "            scale=30,\n",
    "            region=image.geometry().bounds(),\n",
    "            fileFormat='GeoTIFF'\n",
    "        )\n",
    "        export_task.start()\n",
    "        print(f\"exporting {label}, image {i+1} of {image_count} with ID: {image_id}\")\n",
    "\n",
    "# another function just for the NDWI of each image as it is float datatype\n",
    "def export_ndwi(image_collection, label):\n",
    "    image_list = image_collection.toList(image_collection.size())\n",
    "    image_count = image_collection.size().getInfo()\n",
    "\n",
    "    for i in range(image_count):\n",
    "        image = ee.Image(image_list.get(i))\n",
    "        image_id = image.get('system:index').getInfo()  \n",
    "\n",
    "        export_task = ee.batch.Export.image.toDrive(\n",
    "            image=image.select('NDWI'),\n",
    "            description=f'{image_id}_NDWI',\n",
    "            folder='gee_SGL_exports',\n",
    "            scale=30,\n",
    "            region=image.geometry().bounds(),\n",
    "            fileFormat='GeoTIFF'\n",
    "        )\n",
    "        export_task.start()\n",
    "        print(f\"exporting {label}, image {i+1} of {image_count} with ID: {image_id}\")"
   ]
  },
  {
   "cell_type": "code",
   "execution_count": 78,
   "metadata": {},
   "outputs": [
    {
     "data": {
      "text/html": [
       "\n",
       "            <style>\n",
       "                .geemap-dark {\n",
       "                    --jp-widgets-color: white;\n",
       "                    --jp-widgets-label-color: white;\n",
       "                    --jp-ui-font-color1: white;\n",
       "                    --jp-layout-color2: #454545;\n",
       "                    background-color: #383838;\n",
       "                }\n",
       "\n",
       "                .geemap-dark .jupyter-button {\n",
       "                    --jp-layout-color3: #383838;\n",
       "                }\n",
       "\n",
       "                .geemap-colab {\n",
       "                    background-color: var(--colab-primary-surface-color, white);\n",
       "                }\n",
       "\n",
       "                .geemap-colab .jupyter-button {\n",
       "                    --jp-layout-color3: var(--colab-primary-surface-color, white);\n",
       "                }\n",
       "            </style>\n",
       "            "
      ],
      "text/plain": [
       "<IPython.core.display.HTML object>"
      ]
     },
     "metadata": {},
     "output_type": "display_data"
    },
    {
     "name": "stdout",
     "output_type": "stream",
     "text": [
      "exporting raw bands, image 1 of 19 with ID: 1_LC08_006013_20210919\n",
      "exporting raw bands, image 2 of 19 with ID: 1_LC08_007012_20210910\n",
      "exporting raw bands, image 3 of 19 with ID: 1_LC08_007012_20210926\n",
      "exporting raw bands, image 4 of 19 with ID: 1_LC08_007012_20210505\n",
      "exporting raw bands, image 5 of 19 with ID: 1_LC08_007012_20210708\n",
      "exporting raw bands, image 6 of 19 with ID: 1_LC08_007012_20210622\n",
      "exporting raw bands, image 7 of 19 with ID: 1_LC08_008012_20210917\n",
      "exporting raw bands, image 8 of 19 with ID: 1_LC08_006013_20210701\n",
      "exporting raw bands, image 9 of 19 with ID: 1_LC08_008012_20210901\n",
      "exporting raw bands, image 10 of 19 with ID: 1_LC08_006013_20210514\n",
      "exporting raw bands, image 11 of 19 with ID: 1_LC08_009012_20210503\n",
      "exporting raw bands, image 12 of 19 with ID: 1_LC08_008012_20210731\n",
      "exporting raw bands, image 13 of 19 with ID: 1_LC08_009011_20210924\n",
      "exporting raw bands, image 14 of 19 with ID: 1_LC08_009011_20210823\n",
      "exporting raw bands, image 15 of 19 with ID: 1_LC08_008012_20210528\n",
      "exporting raw bands, image 16 of 19 with ID: 1_LC08_009012_20210823\n",
      "exporting raw bands, image 17 of 19 with ID: 1_LC08_009012_20210604\n",
      "exporting raw bands, image 18 of 19 with ID: 1_LC08_007012_20210606\n",
      "exporting raw bands, image 19 of 19 with ID: 1_LC08_009011_20210604\n",
      "exporting ndwi, image 1 of 19 with ID: 1_LC08_006013_20210919\n",
      "exporting ndwi, image 2 of 19 with ID: 1_LC08_007012_20210910\n",
      "exporting ndwi, image 3 of 19 with ID: 1_LC08_007012_20210926\n",
      "exporting ndwi, image 4 of 19 with ID: 1_LC08_007012_20210505\n",
      "exporting ndwi, image 5 of 19 with ID: 1_LC08_007012_20210708\n",
      "exporting ndwi, image 6 of 19 with ID: 1_LC08_007012_20210622\n",
      "exporting ndwi, image 7 of 19 with ID: 1_LC08_008012_20210917\n",
      "exporting ndwi, image 8 of 19 with ID: 1_LC08_006013_20210701\n",
      "exporting ndwi, image 9 of 19 with ID: 1_LC08_008012_20210901\n",
      "exporting ndwi, image 10 of 19 with ID: 1_LC08_006013_20210514\n",
      "exporting ndwi, image 11 of 19 with ID: 1_LC08_009012_20210503\n",
      "exporting ndwi, image 12 of 19 with ID: 1_LC08_008012_20210731\n",
      "exporting ndwi, image 13 of 19 with ID: 1_LC08_009011_20210924\n",
      "exporting ndwi, image 14 of 19 with ID: 1_LC08_009011_20210823\n",
      "exporting ndwi, image 15 of 19 with ID: 1_LC08_008012_20210528\n",
      "exporting ndwi, image 16 of 19 with ID: 1_LC08_009012_20210823\n",
      "exporting ndwi, image 17 of 19 with ID: 1_LC08_009012_20210604\n",
      "exporting ndwi, image 18 of 19 with ID: 1_LC08_007012_20210606\n",
      "exporting ndwi, image 19 of 19 with ID: 1_LC08_009011_20210604\n"
     ]
    }
   ],
   "source": [
    "# apply the function\n",
    "export_all_images(all_images_w_ndwi, 'raw bands')\n",
    "export_ndwi(all_images_w_ndwi, 'ndwi')"
   ]
  }
 ],
 "metadata": {
  "kernelspec": {
   "display_name": "Python 3",
   "language": "python",
   "name": "python3"
  },
  "language_info": {
   "codemirror_mode": {
    "name": "ipython",
    "version": 3
   },
   "file_extension": ".py",
   "mimetype": "text/x-python",
   "name": "python",
   "nbconvert_exporter": "python",
   "pygments_lexer": "ipython3",
   "version": "3.12.1"
  }
 },
 "nbformat": 4,
 "nbformat_minor": 2
}
